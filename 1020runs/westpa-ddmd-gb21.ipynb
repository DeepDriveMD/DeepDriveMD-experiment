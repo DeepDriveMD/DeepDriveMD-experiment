{
 "cells": [
  {
   "cell_type": "code",
   "execution_count": 1,
   "id": "38877599",
   "metadata": {},
   "outputs": [],
   "source": [
    "import pandas as pd\n",
    "%matplotlib inline\n",
    "import matplotlib.pyplot as plt\n",
    "from IPython.core.display import Math\n",
    "import datetime\n",
    "from collections import Counter\n",
    "import matplotlib.dates as mdates\n",
    "import numpy as np\n",
    "\n",
    "plt.style.use(\"ggplot\")"
   ]
  },
  {
   "cell_type": "markdown",
   "id": "601bb06a",
   "metadata": {},
   "source": [
    "# Inference (deepdrivemd) performance"
   ]
  },
  {
   "cell_type": "code",
   "execution_count": 2,
   "id": "47dce369",
   "metadata": {},
   "outputs": [],
   "source": [
    "def to_eastern_time(df):\n",
    "    try:\n",
    "        return pd.to_datetime(df,unit='s') - pd.Timedelta('04:00:00')#.astype('datetime64[ns, America/New_York]').dt.tz_convert('Etc/GMT+4')\n",
    "    except:\n",
    "        return datetime.datetime.fromtimestamp(df)"
   ]
  },
  {
   "cell_type": "code",
   "execution_count": 3,
   "id": "43f0e28a",
   "metadata": {},
   "outputs": [],
   "source": [
    "df_ddmd = pd.read_csv('ddmd_inference.updated.csv',names=['id','step','stime_epoch','elapsed'])\n",
    "df_ddmd['stime'] = to_eastern_time(df_ddmd['stime_epoch'])"
   ]
  },
  {
   "cell_type": "code",
   "execution_count": 4,
   "id": "f7fdfaf1",
   "metadata": {},
   "outputs": [
    {
     "data": {
      "text/html": [
       "<div>\n",
       "<style scoped>\n",
       "    .dataframe tbody tr th:only-of-type {\n",
       "        vertical-align: middle;\n",
       "    }\n",
       "\n",
       "    .dataframe tbody tr th {\n",
       "        vertical-align: top;\n",
       "    }\n",
       "\n",
       "    .dataframe thead th {\n",
       "        text-align: right;\n",
       "    }\n",
       "</style>\n",
       "<table border=\"1\" class=\"dataframe\">\n",
       "  <thead>\n",
       "    <tr style=\"text-align: right;\">\n",
       "      <th></th>\n",
       "      <th>id</th>\n",
       "      <th>step</th>\n",
       "      <th>stime_epoch</th>\n",
       "      <th>elapsed</th>\n",
       "      <th>stime</th>\n",
       "    </tr>\n",
       "  </thead>\n",
       "  <tbody>\n",
       "    <tr>\n",
       "      <th>0</th>\n",
       "      <td>0</td>\n",
       "      <td>Start preprocess_pdb</td>\n",
       "      <td>1.633661e+09</td>\n",
       "      <td>17.597987</td>\n",
       "      <td>2021-10-07 22:51:39.745797157</td>\n",
       "    </tr>\n",
       "    <tr>\n",
       "      <th>1</th>\n",
       "      <td>0</td>\n",
       "      <td>Start preprocess_traj</td>\n",
       "      <td>1.633662e+09</td>\n",
       "      <td>12.332462</td>\n",
       "      <td>2021-10-07 22:51:57.343783617</td>\n",
       "    </tr>\n",
       "    <tr>\n",
       "      <th>2</th>\n",
       "      <td>0</td>\n",
       "      <td>Start concatenate</td>\n",
       "      <td>1.633662e+09</td>\n",
       "      <td>0.000073</td>\n",
       "      <td>2021-10-07 22:52:09.676246166</td>\n",
       "    </tr>\n",
       "    <tr>\n",
       "      <th>3</th>\n",
       "      <td>0</td>\n",
       "      <td>Start write_h5</td>\n",
       "      <td>1.633662e+09</td>\n",
       "      <td>0.001950</td>\n",
       "      <td>2021-10-07 22:52:09.676318645</td>\n",
       "    </tr>\n",
       "    <tr>\n",
       "      <th>4</th>\n",
       "      <td>0</td>\n",
       "      <td>Start generate_embeddings</td>\n",
       "      <td>1.633662e+09</td>\n",
       "      <td>2.340483</td>\n",
       "      <td>2021-10-07 22:52:09.678268194</td>\n",
       "    </tr>\n",
       "    <tr>\n",
       "      <th>...</th>\n",
       "      <td>...</td>\n",
       "      <td>...</td>\n",
       "      <td>...</td>\n",
       "      <td>...</td>\n",
       "      <td>...</td>\n",
       "    </tr>\n",
       "    <tr>\n",
       "      <th>48947</th>\n",
       "      <td>6119</td>\n",
       "      <td>Start write_h5</td>\n",
       "      <td>1.633662e+09</td>\n",
       "      <td>0.001772</td>\n",
       "      <td>2021-10-07 22:58:18.610535622</td>\n",
       "    </tr>\n",
       "    <tr>\n",
       "      <th>48948</th>\n",
       "      <td>6119</td>\n",
       "      <td>Start generate_embeddings</td>\n",
       "      <td>1.633662e+09</td>\n",
       "      <td>2.309940</td>\n",
       "      <td>2021-10-07 22:58:18.612307310</td>\n",
       "    </tr>\n",
       "    <tr>\n",
       "      <th>48949</th>\n",
       "      <td>6119</td>\n",
       "      <td>Start unlink h5</td>\n",
       "      <td>1.633662e+09</td>\n",
       "      <td>0.000058</td>\n",
       "      <td>2021-10-07 22:58:20.922248125</td>\n",
       "    </tr>\n",
       "    <tr>\n",
       "      <th>48950</th>\n",
       "      <td>6119</td>\n",
       "      <td>Start savetxt</td>\n",
       "      <td>1.633662e+09</td>\n",
       "      <td>0.000454</td>\n",
       "      <td>2021-10-07 22:58:20.922306538</td>\n",
       "    </tr>\n",
       "    <tr>\n",
       "      <th>48951</th>\n",
       "      <td>6119</td>\n",
       "      <td>Done</td>\n",
       "      <td>1.633662e+09</td>\n",
       "      <td>0.000000</td>\n",
       "      <td>2021-10-07 22:58:20.922760487</td>\n",
       "    </tr>\n",
       "  </tbody>\n",
       "</table>\n",
       "<p>48952 rows × 5 columns</p>\n",
       "</div>"
      ],
      "text/plain": [
       "         id                       step   stime_epoch    elapsed  \\\n",
       "0         0       Start preprocess_pdb  1.633661e+09  17.597987   \n",
       "1         0      Start preprocess_traj  1.633662e+09  12.332462   \n",
       "2         0          Start concatenate  1.633662e+09   0.000073   \n",
       "3         0             Start write_h5  1.633662e+09   0.001950   \n",
       "4         0  Start generate_embeddings  1.633662e+09   2.340483   \n",
       "...     ...                        ...           ...        ...   \n",
       "48947  6119             Start write_h5  1.633662e+09   0.001772   \n",
       "48948  6119  Start generate_embeddings  1.633662e+09   2.309940   \n",
       "48949  6119            Start unlink h5  1.633662e+09   0.000058   \n",
       "48950  6119              Start savetxt  1.633662e+09   0.000454   \n",
       "48951  6119                       Done  1.633662e+09   0.000000   \n",
       "\n",
       "                              stime  \n",
       "0     2021-10-07 22:51:39.745797157  \n",
       "1     2021-10-07 22:51:57.343783617  \n",
       "2     2021-10-07 22:52:09.676246166  \n",
       "3     2021-10-07 22:52:09.676318645  \n",
       "4     2021-10-07 22:52:09.678268194  \n",
       "...                             ...  \n",
       "48947 2021-10-07 22:58:18.610535622  \n",
       "48948 2021-10-07 22:58:18.612307310  \n",
       "48949 2021-10-07 22:58:20.922248125  \n",
       "48950 2021-10-07 22:58:20.922306538  \n",
       "48951 2021-10-07 22:58:20.922760487  \n",
       "\n",
       "[48952 rows x 5 columns]"
      ]
     },
     "execution_count": 4,
     "metadata": {},
     "output_type": "execute_result"
    }
   ],
   "source": [
    "df_ddmd"
   ]
  },
  {
   "cell_type": "code",
   "execution_count": 5,
   "id": "c25316a7",
   "metadata": {},
   "outputs": [
    {
     "data": {
      "text/plain": [
       "(Timestamp('2021-10-07 19:03:24.077366114'),\n",
       " Timestamp('2021-10-07 18:50:37.086507320'))"
      ]
     },
     "execution_count": 5,
     "metadata": {},
     "output_type": "execute_result"
    }
   ],
   "source": [
    "to_eastern_time(max(df_ddmd['stime'])), to_eastern_time(min(df_ddmd['stime']))"
   ]
  },
  {
   "cell_type": "code",
   "execution_count": 6,
   "id": "4d795d18",
   "metadata": {},
   "outputs": [],
   "source": [
    "timing = df_ddmd[df_ddmd['step']=='Start generate_embeddings']#Start unlink h5']#Start preprocess_traj']\n",
    "timing = timing.reset_index(drop=True)"
   ]
  },
  {
   "cell_type": "code",
   "execution_count": 7,
   "id": "ca4dd95b",
   "metadata": {},
   "outputs": [
    {
     "data": {
      "text/plain": [
       "step\n",
       "Done                          0.000000\n",
       "Start concatenate             0.000087\n",
       "Start generate_embeddings     2.805800\n",
       "Start preprocess_pdb         21.694879\n",
       "Start preprocess_traj        12.680211\n",
       "Start savetxt                 0.000579\n",
       "Start unlink h5               0.000078\n",
       "Start write_h5                0.002377\n",
       "Name: elapsed, dtype: float64"
      ]
     },
     "execution_count": 7,
     "metadata": {},
     "output_type": "execute_result"
    }
   ],
   "source": [
    "df_ddmd.groupby('step')['elapsed'].mean()"
   ]
  },
  {
   "cell_type": "code",
   "execution_count": 8,
   "id": "6ce985b2",
   "metadata": {},
   "outputs": [],
   "source": [
    "df_inference = df_ddmd[df_ddmd['step']=='Start generate_embeddings']"
   ]
  },
  {
   "cell_type": "code",
   "execution_count": 9,
   "id": "ac921ea8",
   "metadata": {},
   "outputs": [
    {
     "data": {
      "text/html": [
       "<div>\n",
       "<style scoped>\n",
       "    .dataframe tbody tr th:only-of-type {\n",
       "        vertical-align: middle;\n",
       "    }\n",
       "\n",
       "    .dataframe tbody tr th {\n",
       "        vertical-align: top;\n",
       "    }\n",
       "\n",
       "    .dataframe thead th {\n",
       "        text-align: right;\n",
       "    }\n",
       "</style>\n",
       "<table border=\"1\" class=\"dataframe\">\n",
       "  <thead>\n",
       "    <tr style=\"text-align: right;\">\n",
       "      <th></th>\n",
       "      <th>id</th>\n",
       "      <th>step</th>\n",
       "      <th>stime_epoch</th>\n",
       "      <th>elapsed</th>\n",
       "      <th>stime</th>\n",
       "    </tr>\n",
       "  </thead>\n",
       "  <tbody>\n",
       "    <tr>\n",
       "      <th>4</th>\n",
       "      <td>0</td>\n",
       "      <td>Start generate_embeddings</td>\n",
       "      <td>1.633662e+09</td>\n",
       "      <td>2.340483</td>\n",
       "      <td>2021-10-07 22:52:09.678268194</td>\n",
       "    </tr>\n",
       "    <tr>\n",
       "      <th>12</th>\n",
       "      <td>1</td>\n",
       "      <td>Start generate_embeddings</td>\n",
       "      <td>1.633662e+09</td>\n",
       "      <td>3.442610</td>\n",
       "      <td>2021-10-07 22:58:38.199811220</td>\n",
       "    </tr>\n",
       "    <tr>\n",
       "      <th>20</th>\n",
       "      <td>2</td>\n",
       "      <td>Start generate_embeddings</td>\n",
       "      <td>1.633662e+09</td>\n",
       "      <td>2.616396</td>\n",
       "      <td>2021-10-07 22:59:11.107344627</td>\n",
       "    </tr>\n",
       "    <tr>\n",
       "      <th>28</th>\n",
       "      <td>3</td>\n",
       "      <td>Start generate_embeddings</td>\n",
       "      <td>1.633662e+09</td>\n",
       "      <td>3.732296</td>\n",
       "      <td>2021-10-07 22:53:06.358351469</td>\n",
       "    </tr>\n",
       "    <tr>\n",
       "      <th>36</th>\n",
       "      <td>4</td>\n",
       "      <td>Start generate_embeddings</td>\n",
       "      <td>1.633662e+09</td>\n",
       "      <td>2.234220</td>\n",
       "      <td>2021-10-07 22:57:42.193601847</td>\n",
       "    </tr>\n",
       "    <tr>\n",
       "      <th>...</th>\n",
       "      <td>...</td>\n",
       "      <td>...</td>\n",
       "      <td>...</td>\n",
       "      <td>...</td>\n",
       "      <td>...</td>\n",
       "    </tr>\n",
       "    <tr>\n",
       "      <th>48916</th>\n",
       "      <td>6115</td>\n",
       "      <td>Start generate_embeddings</td>\n",
       "      <td>1.633662e+09</td>\n",
       "      <td>2.263038</td>\n",
       "      <td>2021-10-07 22:58:20.958259821</td>\n",
       "    </tr>\n",
       "    <tr>\n",
       "      <th>48924</th>\n",
       "      <td>6116</td>\n",
       "      <td>Start generate_embeddings</td>\n",
       "      <td>1.633662e+09</td>\n",
       "      <td>2.710300</td>\n",
       "      <td>2021-10-07 22:59:20.850477934</td>\n",
       "    </tr>\n",
       "    <tr>\n",
       "      <th>48932</th>\n",
       "      <td>6117</td>\n",
       "      <td>Start generate_embeddings</td>\n",
       "      <td>1.633662e+09</td>\n",
       "      <td>3.190090</td>\n",
       "      <td>2021-10-07 22:59:16.264427423</td>\n",
       "    </tr>\n",
       "    <tr>\n",
       "      <th>48940</th>\n",
       "      <td>6118</td>\n",
       "      <td>Start generate_embeddings</td>\n",
       "      <td>1.633662e+09</td>\n",
       "      <td>3.446937</td>\n",
       "      <td>2021-10-07 22:59:18.757003546</td>\n",
       "    </tr>\n",
       "    <tr>\n",
       "      <th>48948</th>\n",
       "      <td>6119</td>\n",
       "      <td>Start generate_embeddings</td>\n",
       "      <td>1.633662e+09</td>\n",
       "      <td>2.309940</td>\n",
       "      <td>2021-10-07 22:58:18.612307310</td>\n",
       "    </tr>\n",
       "  </tbody>\n",
       "</table>\n",
       "<p>6119 rows × 5 columns</p>\n",
       "</div>"
      ],
      "text/plain": [
       "         id                       step   stime_epoch   elapsed  \\\n",
       "4         0  Start generate_embeddings  1.633662e+09  2.340483   \n",
       "12        1  Start generate_embeddings  1.633662e+09  3.442610   \n",
       "20        2  Start generate_embeddings  1.633662e+09  2.616396   \n",
       "28        3  Start generate_embeddings  1.633662e+09  3.732296   \n",
       "36        4  Start generate_embeddings  1.633662e+09  2.234220   \n",
       "...     ...                        ...           ...       ...   \n",
       "48916  6115  Start generate_embeddings  1.633662e+09  2.263038   \n",
       "48924  6116  Start generate_embeddings  1.633662e+09  2.710300   \n",
       "48932  6117  Start generate_embeddings  1.633662e+09  3.190090   \n",
       "48940  6118  Start generate_embeddings  1.633662e+09  3.446937   \n",
       "48948  6119  Start generate_embeddings  1.633662e+09  2.309940   \n",
       "\n",
       "                              stime  \n",
       "4     2021-10-07 22:52:09.678268194  \n",
       "12    2021-10-07 22:58:38.199811220  \n",
       "20    2021-10-07 22:59:11.107344627  \n",
       "28    2021-10-07 22:53:06.358351469  \n",
       "36    2021-10-07 22:57:42.193601847  \n",
       "...                             ...  \n",
       "48916 2021-10-07 22:58:20.958259821  \n",
       "48924 2021-10-07 22:59:20.850477934  \n",
       "48932 2021-10-07 22:59:16.264427423  \n",
       "48940 2021-10-07 22:59:18.757003546  \n",
       "48948 2021-10-07 22:58:18.612307310  \n",
       "\n",
       "[6119 rows x 5 columns]"
      ]
     },
     "execution_count": 9,
     "metadata": {},
     "output_type": "execute_result"
    }
   ],
   "source": [
    "df_inference"
   ]
  },
  {
   "cell_type": "code",
   "execution_count": 10,
   "id": "c44d4e97",
   "metadata": {},
   "outputs": [],
   "source": [
    "ddmd_cumsum = []\n",
    "cnt = 0\n",
    "for i in range(600):\n",
    "    time_v = (datetime.datetime(2021, 10, 7, 22, 51, 10) + datetime.timedelta(seconds=i))\n",
    "    time_v_adj = (datetime.datetime(2021, 10, 7, 0, 0, 0) + datetime.timedelta(seconds=i))\n",
    "    filtered = df_inference[df_inference['stime'] <= time_v]\n",
    "    \n",
    "    ddmd_cumsum.append([time_v_adj, len(filtered)])"
   ]
  },
  {
   "cell_type": "code",
   "execution_count": 11,
   "id": "9871065f",
   "metadata": {},
   "outputs": [],
   "source": [
    "df_ddmd_cnt = pd.DataFrame(ddmd_cumsum)"
   ]
  },
  {
   "cell_type": "code",
   "execution_count": 48,
   "id": "15072750",
   "metadata": {},
   "outputs": [
    {
     "data": {
      "image/png": "[encoded data removed]",
      "text/plain": [
       "<Figure size 432x288 with 1 Axes>"
      ]
     },
     "metadata": {},
     "output_type": "display_data"
    }
   ],
   "source": [
    "ax=df_ddmd_cnt.plot(x=0, legend=False)\n",
    "#formatter = mdates.DateFormatter('%T')\n",
    "#plt.gca().xaxis.set_major_formatter(formatter)\n",
    "ax.set_ylabel('# GPU Used')\n",
    "ax.set_xlabel('Time (m)')\n",
    "plt.show()"
   ]
  },
  {
   "cell_type": "code",
   "execution_count": 18,
   "id": "d8e12c9a",
   "metadata": {},
   "outputs": [],
   "source": [
    "base = min(df_inference['stime']) - datetime.timedelta(seconds=30)\n",
    "time_list = [base + datetime.timedelta(seconds=x) for x in range(800)]"
   ]
  },
  {
   "cell_type": "code",
   "execution_count": 19,
   "id": "24fe616a",
   "metadata": {},
   "outputs": [],
   "source": [
    "rdata_ddmd = []\n",
    "cnt = 0\n",
    "for i in time_list:\n",
    "    tmp = df_inference[(df_inference['stime'] <= i)]\n",
    "    tmpid = (tmp.id)\n",
    "    tmp2 = df_inference[df_inference['stime'] + pd.to_timedelta(df_inference['elapsed'], unit='s') >= i]\n",
    "    tmp2id = (tmp2.id)\n",
    "    merged = (list(tmpid) + list(tmp2id))\n",
    "    #print(Counter(merged))\n",
    "    active = {x: count for x, count in Counter(merged).items() if count >= 2}\n",
    "    adj = datetime.timedelta(hours=22, minutes = 50, seconds  = 39)\n",
    "    rdata_ddmd.append([i - adj, len(active)])\n",
    "    #print(len(tmpid) + len(tmp2id) - tot_cnt)"
   ]
  },
  {
   "cell_type": "code",
   "execution_count": 20,
   "id": "cf092057",
   "metadata": {},
   "outputs": [
    {
     "data": {
      "text/plain": [
       "(Timestamp('2021-10-07 23:03:21.811544418'),\n",
       " 26140   2021-10-07 23:03:24.076850176\n",
       " Name: elapsed, dtype: datetime64[ns],\n",
       " [Timestamp('2021-10-07 00:13:17.000668049'), 0])"
      ]
     },
     "execution_count": 20,
     "metadata": {},
     "output_type": "execute_result"
    }
   ],
   "source": [
    "last_tx = df_inference[df_inference['stime']==max(df_inference['stime'])]['elapsed']\n",
    "max(df_inference['stime']), (max(df_inference['stime']) + pd.to_timedelta(last_tx,unit='s')), max(rdata_ddmd)"
   ]
  },
  {
   "cell_type": "code",
   "execution_count": 21,
   "id": "af5dae41",
   "metadata": {},
   "outputs": [],
   "source": [
    "df_ddmd_resource = pd.DataFrame(rdata_ddmd)"
   ]
  },
  {
   "cell_type": "code",
   "execution_count": 22,
   "id": "bb3bc3e7",
   "metadata": {},
   "outputs": [
    {
     "data": {
      "text/html": [
       "<div>\n",
       "<style scoped>\n",
       "    .dataframe tbody tr th:only-of-type {\n",
       "        vertical-align: middle;\n",
       "    }\n",
       "\n",
       "    .dataframe tbody tr th {\n",
       "        vertical-align: top;\n",
       "    }\n",
       "\n",
       "    .dataframe thead th {\n",
       "        text-align: right;\n",
       "    }\n",
       "</style>\n",
       "<table border=\"1\" class=\"dataframe\">\n",
       "  <thead>\n",
       "    <tr style=\"text-align: right;\">\n",
       "      <th></th>\n",
       "      <th>0</th>\n",
       "      <th>1</th>\n",
       "    </tr>\n",
       "  </thead>\n",
       "  <tbody>\n",
       "    <tr>\n",
       "      <th>0</th>\n",
       "      <td>2021-10-06 23:59:58.000668049</td>\n",
       "      <td>0</td>\n",
       "    </tr>\n",
       "    <tr>\n",
       "      <th>1</th>\n",
       "      <td>2021-10-06 23:59:59.000668049</td>\n",
       "      <td>0</td>\n",
       "    </tr>\n",
       "    <tr>\n",
       "      <th>2</th>\n",
       "      <td>2021-10-07 00:00:00.000668049</td>\n",
       "      <td>0</td>\n",
       "    </tr>\n",
       "    <tr>\n",
       "      <th>3</th>\n",
       "      <td>2021-10-07 00:00:01.000668049</td>\n",
       "      <td>0</td>\n",
       "    </tr>\n",
       "    <tr>\n",
       "      <th>4</th>\n",
       "      <td>2021-10-07 00:00:02.000668049</td>\n",
       "      <td>0</td>\n",
       "    </tr>\n",
       "    <tr>\n",
       "      <th>...</th>\n",
       "      <td>...</td>\n",
       "      <td>...</td>\n",
       "    </tr>\n",
       "    <tr>\n",
       "      <th>795</th>\n",
       "      <td>2021-10-07 00:13:13.000668049</td>\n",
       "      <td>0</td>\n",
       "    </tr>\n",
       "    <tr>\n",
       "      <th>796</th>\n",
       "      <td>2021-10-07 00:13:14.000668049</td>\n",
       "      <td>0</td>\n",
       "    </tr>\n",
       "    <tr>\n",
       "      <th>797</th>\n",
       "      <td>2021-10-07 00:13:15.000668049</td>\n",
       "      <td>0</td>\n",
       "    </tr>\n",
       "    <tr>\n",
       "      <th>798</th>\n",
       "      <td>2021-10-07 00:13:16.000668049</td>\n",
       "      <td>0</td>\n",
       "    </tr>\n",
       "    <tr>\n",
       "      <th>799</th>\n",
       "      <td>2021-10-07 00:13:17.000668049</td>\n",
       "      <td>0</td>\n",
       "    </tr>\n",
       "  </tbody>\n",
       "</table>\n",
       "<p>800 rows × 2 columns</p>\n",
       "</div>"
      ],
      "text/plain": [
       "                                0  1\n",
       "0   2021-10-06 23:59:58.000668049  0\n",
       "1   2021-10-06 23:59:59.000668049  0\n",
       "2   2021-10-07 00:00:00.000668049  0\n",
       "3   2021-10-07 00:00:01.000668049  0\n",
       "4   2021-10-07 00:00:02.000668049  0\n",
       "..                            ... ..\n",
       "795 2021-10-07 00:13:13.000668049  0\n",
       "796 2021-10-07 00:13:14.000668049  0\n",
       "797 2021-10-07 00:13:15.000668049  0\n",
       "798 2021-10-07 00:13:16.000668049  0\n",
       "799 2021-10-07 00:13:17.000668049  0\n",
       "\n",
       "[800 rows x 2 columns]"
      ]
     },
     "execution_count": 22,
     "metadata": {},
     "output_type": "execute_result"
    }
   ],
   "source": [
    "df_ddmd_resource"
   ]
  },
  {
   "cell_type": "code",
   "execution_count": 23,
   "id": "2b93fd4c",
   "metadata": {},
   "outputs": [
    {
     "data": {
      "text/plain": [
       "17226"
      ]
     },
     "execution_count": 23,
     "metadata": {},
     "output_type": "execute_result"
    }
   ],
   "source": [
    "sum(df_ddmd_resource[1])"
   ]
  },
  {
   "cell_type": "code",
   "execution_count": 51,
   "id": "019d016e",
   "metadata": {},
   "outputs": [
    {
     "data": {
      "image/png": "[encoded data removed]",
      "text/plain": [
       "<Figure size 432x288 with 1 Axes>"
      ]
     },
     "metadata": {},
     "output_type": "display_data"
    }
   ],
   "source": [
    "ax=df_ddmd_resource.plot(x=0, legend=False)\n",
    "formatter = mdates.DateFormatter('%T')\n",
    "plt.gca().xaxis.set_major_formatter(formatter)\n",
    "ax.set_ylabel('# GPU Active')\n",
    "ax.set_xlabel('Time (m)')\n",
    "plt.show()"
   ]
  },
  {
   "cell_type": "markdown",
   "id": "0e3f69d6",
   "metadata": {},
   "source": [
    "## Time to exection in average"
   ]
  },
  {
   "cell_type": "code",
   "execution_count": 25,
   "id": "61b723dc",
   "metadata": {},
   "outputs": [
    {
     "name": "stdout",
     "output_type": "stream",
     "text": [
      "2.81±0.45 s\n"
     ]
    }
   ],
   "source": [
    "print(\"{:.02f}{}{:.02f} s\".format(timing['elapsed'].mean(),u\"\\u00B1\", timing['elapsed'].std()))"
   ]
  },
  {
   "cell_type": "code",
   "execution_count": 26,
   "id": "3de70877",
   "metadata": {},
   "outputs": [
    {
     "data": {
      "text/plain": [
       "Text(0.5, 0, 'Replica Id')"
      ]
     },
     "execution_count": 26,
     "metadata": {},
     "output_type": "execute_result"
    },
    {
     "data": {
      "image/png": "[encoded data removed]",
      "text/plain": [
       "<Figure size 1152x216 with 1 Axes>"
      ]
     },
     "metadata": {},
     "output_type": "display_data"
    }
   ],
   "source": [
    "ax=timing['elapsed'].plot(linewidth=0.5, figsize=(16,3))\n",
    "ax.set_ylabel('Elapsed time (s)')\n",
    "ax.set_xlabel('Replica Id')"
   ]
  },
  {
   "cell_type": "code",
   "execution_count": 27,
   "id": "3ad4bda7",
   "metadata": {},
   "outputs": [
    {
     "data": {
      "text/plain": [
       "Text(0.5, 0, 'Elapsed time (s)')"
      ]
     },
     "execution_count": 27,
     "metadata": {},
     "output_type": "execute_result"
    },
    {
     "data": {
      "image/png": "[encoded data removed]",
      "text/plain": [
       "<Figure size 432x288 with 1 Axes>"
      ]
     },
     "metadata": {},
     "output_type": "display_data"
    }
   ],
   "source": [
    "ax = timing['elapsed'].plot.hist(bins=102, alpha=0.5)\n",
    "ax.set_ylabel('# Inference Processed')\n",
    "ax.set_xlabel('Elapsed time (s)')"
   ]
  },
  {
   "cell_type": "markdown",
   "id": "e6aa6091",
   "metadata": {},
   "source": [
    "# WESTPA performance"
   ]
  },
  {
   "cell_type": "code",
   "execution_count": 28,
   "id": "082c5acf",
   "metadata": {},
   "outputs": [],
   "source": [
    "df_westpa=pd.read_csv('westpa_stats.csv',names=['id','ns/day','stime','elapsed'])\n",
    "df_westpa['stime'] = pd.to_datetime(df_westpa['stime'])"
   ]
  },
  {
   "cell_type": "code",
   "execution_count": 29,
   "id": "cc3d0604",
   "metadata": {},
   "outputs": [
    {
     "data": {
      "text/html": [
       "<div>\n",
       "<style scoped>\n",
       "    .dataframe tbody tr th:only-of-type {\n",
       "        vertical-align: middle;\n",
       "    }\n",
       "\n",
       "    .dataframe tbody tr th {\n",
       "        vertical-align: top;\n",
       "    }\n",
       "\n",
       "    .dataframe thead th {\n",
       "        text-align: right;\n",
       "    }\n",
       "</style>\n",
       "<table border=\"1\" class=\"dataframe\">\n",
       "  <thead>\n",
       "    <tr style=\"text-align: right;\">\n",
       "      <th></th>\n",
       "      <th>id</th>\n",
       "      <th>ns/day</th>\n",
       "      <th>stime</th>\n",
       "      <th>elapsed</th>\n",
       "    </tr>\n",
       "  </thead>\n",
       "  <tbody>\n",
       "    <tr>\n",
       "      <th>0</th>\n",
       "      <td>001689</td>\n",
       "      <td>33.52</td>\n",
       "      <td>2021-10-07 22:48:22</td>\n",
       "      <td>267.0</td>\n",
       "    </tr>\n",
       "    <tr>\n",
       "      <th>1</th>\n",
       "      <td>005916</td>\n",
       "      <td>33.85</td>\n",
       "      <td>2021-10-07 22:49:24</td>\n",
       "      <td>265.0</td>\n",
       "    </tr>\n",
       "    <tr>\n",
       "      <th>2</th>\n",
       "      <td>005635</td>\n",
       "      <td>34.03</td>\n",
       "      <td>2021-10-07 22:49:24</td>\n",
       "      <td>263.0</td>\n",
       "    </tr>\n",
       "    <tr>\n",
       "      <th>3</th>\n",
       "      <td>000799</td>\n",
       "      <td>33.84</td>\n",
       "      <td>2021-10-07 22:49:24</td>\n",
       "      <td>265.0</td>\n",
       "    </tr>\n",
       "    <tr>\n",
       "      <th>4</th>\n",
       "      <td>003647</td>\n",
       "      <td>33.65</td>\n",
       "      <td>2021-10-07 22:48:22</td>\n",
       "      <td>266.0</td>\n",
       "    </tr>\n",
       "    <tr>\n",
       "      <th>...</th>\n",
       "      <td>...</td>\n",
       "      <td>...</td>\n",
       "      <td>...</td>\n",
       "      <td>...</td>\n",
       "    </tr>\n",
       "    <tr>\n",
       "      <th>5027</th>\n",
       "      <td>001208</td>\n",
       "      <td>34.04</td>\n",
       "      <td>2021-10-07 22:48:54</td>\n",
       "      <td>262.0</td>\n",
       "    </tr>\n",
       "    <tr>\n",
       "      <th>5028</th>\n",
       "      <td>004122</td>\n",
       "      <td>33.82</td>\n",
       "      <td>2021-10-07 22:50:26</td>\n",
       "      <td>264.0</td>\n",
       "    </tr>\n",
       "    <tr>\n",
       "      <th>5029</th>\n",
       "      <td>001060</td>\n",
       "      <td>33.68</td>\n",
       "      <td>2021-10-07 22:48:57</td>\n",
       "      <td>265.0</td>\n",
       "    </tr>\n",
       "    <tr>\n",
       "      <th>5030</th>\n",
       "      <td>000302</td>\n",
       "      <td>33.99</td>\n",
       "      <td>2021-10-07 22:48:16</td>\n",
       "      <td>263.0</td>\n",
       "    </tr>\n",
       "    <tr>\n",
       "      <th>5031</th>\n",
       "      <td>000154</td>\n",
       "      <td>33.87</td>\n",
       "      <td>2021-10-07 22:48:54</td>\n",
       "      <td>264.0</td>\n",
       "    </tr>\n",
       "  </tbody>\n",
       "</table>\n",
       "<p>5032 rows × 4 columns</p>\n",
       "</div>"
      ],
      "text/plain": [
       "          id  ns/day               stime  elapsed\n",
       "0     001689   33.52 2021-10-07 22:48:22    267.0\n",
       "1     005916   33.85 2021-10-07 22:49:24    265.0\n",
       "2     005635   34.03 2021-10-07 22:49:24    263.0\n",
       "3     000799   33.84 2021-10-07 22:49:24    265.0\n",
       "4     003647   33.65 2021-10-07 22:48:22    266.0\n",
       "...      ...     ...                 ...      ...\n",
       "5027  001208   34.04 2021-10-07 22:48:54    262.0\n",
       "5028  004122   33.82 2021-10-07 22:50:26    264.0\n",
       "5029  001060   33.68 2021-10-07 22:48:57    265.0\n",
       "5030  000302   33.99 2021-10-07 22:48:16    263.0\n",
       "5031  000154   33.87 2021-10-07 22:48:54    264.0\n",
       "\n",
       "[5032 rows x 4 columns]"
      ]
     },
     "execution_count": 29,
     "metadata": {},
     "output_type": "execute_result"
    }
   ],
   "source": [
    "df_westpa"
   ]
  },
  {
   "cell_type": "code",
   "execution_count": 30,
   "id": "3516962f",
   "metadata": {},
   "outputs": [],
   "source": [
    "base = min(df_westpa['stime']) - datetime.timedelta(seconds=30)\n",
    "time_list = [base + datetime.timedelta(seconds=x) for x in range(600)]"
   ]
  },
  {
   "cell_type": "code",
   "execution_count": 45,
   "id": "d4fea8b0",
   "metadata": {},
   "outputs": [],
   "source": [
    "rdata = []\n",
    "cnt = 0\n",
    "for i in time_list:\n",
    "    tmp = df_westpa[(df_westpa['stime'] <= i)]\n",
    "    tmpid = (tmp.id)\n",
    "    tmp2 = df_westpa[df_westpa['stime'] + pd.to_timedelta(df_westpa['elapsed'], unit='s') >= i]\n",
    "    tmp2id = (tmp2.id)\n",
    "    merged = (list(tmpid) + list(tmp2id))\n",
    "    #print(Counter(merged))\n",
    "    active = {x: count for x, count in Counter(merged).items() if count >= 2}\n",
    "    adj = datetime.timedelta(hours=22, minutes = 46, seconds  = 39)\n",
    "    rdata.append([i - adj, len(active)])\n",
    "    #print(len(tmpid) + len(tmp2id) - tot_cnt)"
   ]
  },
  {
   "cell_type": "code",
   "execution_count": 32,
   "id": "fa352ac5",
   "metadata": {},
   "outputs": [
    {
     "data": {
      "text/plain": [
       "(Timestamp('2021-10-07 22:51:31'),\n",
       " 3025   2021-10-07 22:55:56\n",
       " Name: elapsed, dtype: datetime64[ns],\n",
       " [Timestamp('2021-10-07 22:55:36'), 27])"
      ]
     },
     "execution_count": 32,
     "metadata": {},
     "output_type": "execute_result"
    }
   ],
   "source": [
    "last_tx = df_westpa[df_westpa['stime']==max(df_westpa['stime'])]['elapsed']\n",
    "max(df_westpa['stime']), (max(df_westpa['stime']) + pd.to_timedelta(last_tx,unit='s')), max(rdata)"
   ]
  },
  {
   "cell_type": "code",
   "execution_count": 46,
   "id": "2b916396",
   "metadata": {},
   "outputs": [],
   "source": [
    "df_resource = pd.DataFrame(rdata)"
   ]
  },
  {
   "cell_type": "code",
   "execution_count": 34,
   "id": "c6cdab74",
   "metadata": {},
   "outputs": [
    {
     "data": {
      "text/html": [
       "<div>\n",
       "<style scoped>\n",
       "    .dataframe tbody tr th:only-of-type {\n",
       "        vertical-align: middle;\n",
       "    }\n",
       "\n",
       "    .dataframe tbody tr th {\n",
       "        vertical-align: top;\n",
       "    }\n",
       "\n",
       "    .dataframe thead th {\n",
       "        text-align: right;\n",
       "    }\n",
       "</style>\n",
       "<table border=\"1\" class=\"dataframe\">\n",
       "  <thead>\n",
       "    <tr style=\"text-align: right;\">\n",
       "      <th></th>\n",
       "      <th>0</th>\n",
       "      <th>1</th>\n",
       "    </tr>\n",
       "  </thead>\n",
       "  <tbody>\n",
       "    <tr>\n",
       "      <th>0</th>\n",
       "      <td>2021-10-07 22:45:37</td>\n",
       "      <td>0</td>\n",
       "    </tr>\n",
       "    <tr>\n",
       "      <th>1</th>\n",
       "      <td>2021-10-07 22:45:38</td>\n",
       "      <td>0</td>\n",
       "    </tr>\n",
       "    <tr>\n",
       "      <th>2</th>\n",
       "      <td>2021-10-07 22:45:39</td>\n",
       "      <td>0</td>\n",
       "    </tr>\n",
       "    <tr>\n",
       "      <th>3</th>\n",
       "      <td>2021-10-07 22:45:40</td>\n",
       "      <td>0</td>\n",
       "    </tr>\n",
       "    <tr>\n",
       "      <th>4</th>\n",
       "      <td>2021-10-07 22:45:41</td>\n",
       "      <td>0</td>\n",
       "    </tr>\n",
       "    <tr>\n",
       "      <th>...</th>\n",
       "      <td>...</td>\n",
       "      <td>...</td>\n",
       "    </tr>\n",
       "    <tr>\n",
       "      <th>595</th>\n",
       "      <td>2021-10-07 22:55:32</td>\n",
       "      <td>27</td>\n",
       "    </tr>\n",
       "    <tr>\n",
       "      <th>596</th>\n",
       "      <td>2021-10-07 22:55:33</td>\n",
       "      <td>27</td>\n",
       "    </tr>\n",
       "    <tr>\n",
       "      <th>597</th>\n",
       "      <td>2021-10-07 22:55:34</td>\n",
       "      <td>27</td>\n",
       "    </tr>\n",
       "    <tr>\n",
       "      <th>598</th>\n",
       "      <td>2021-10-07 22:55:35</td>\n",
       "      <td>27</td>\n",
       "    </tr>\n",
       "    <tr>\n",
       "      <th>599</th>\n",
       "      <td>2021-10-07 22:55:36</td>\n",
       "      <td>27</td>\n",
       "    </tr>\n",
       "  </tbody>\n",
       "</table>\n",
       "<p>600 rows × 2 columns</p>\n",
       "</div>"
      ],
      "text/plain": [
       "                      0   1\n",
       "0   2021-10-07 22:45:37   0\n",
       "1   2021-10-07 22:45:38   0\n",
       "2   2021-10-07 22:45:39   0\n",
       "3   2021-10-07 22:45:40   0\n",
       "4   2021-10-07 22:45:41   0\n",
       "..                  ...  ..\n",
       "595 2021-10-07 22:55:32  27\n",
       "596 2021-10-07 22:55:33  27\n",
       "597 2021-10-07 22:55:34  27\n",
       "598 2021-10-07 22:55:35  27\n",
       "599 2021-10-07 22:55:36  27\n",
       "\n",
       "[600 rows x 2 columns]"
      ]
     },
     "execution_count": 34,
     "metadata": {},
     "output_type": "execute_result"
    }
   ],
   "source": [
    "df_resource"
   ]
  },
  {
   "cell_type": "code",
   "execution_count": 50,
   "id": "f9bcdff1",
   "metadata": {
    "scrolled": true
   },
   "outputs": [
    {
     "data": {
      "text/plain": [
       "Text(0.5, 0, 'Time (m)')"
      ]
     },
     "execution_count": 50,
     "metadata": {},
     "output_type": "execute_result"
    },
    {
     "data": {
      "image/png": "[encoded data removed]",
      "text/plain": [
       "<Figure size 432x288 with 1 Axes>"
      ]
     },
     "metadata": {},
     "output_type": "display_data"
    }
   ],
   "source": [
    "ax=df_resource.plot(x=0, legend=False)\n",
    "ax.set_ylabel('GPUs')\n",
    "ax.set_xlabel('Time (m)')"
   ]
  },
  {
   "cell_type": "markdown",
   "id": "014317f7",
   "metadata": {},
   "source": [
    "# Amber performance"
   ]
  },
  {
   "cell_type": "code",
   "execution_count": 36,
   "id": "af9cffb6",
   "metadata": {},
   "outputs": [
    {
     "name": "stdout",
     "output_type": "stream",
     "text": [
      "33.85±0.19 ns/day\n"
     ]
    }
   ],
   "source": [
    "print(\"{:.02f}{}{:.02f} ns/day\".format(df_westpa['ns/day'].mean(),u\"\\u00B1\", df_westpa['ns/day'].std()))"
   ]
  },
  {
   "cell_type": "markdown",
   "id": "bd138809",
   "metadata": {},
   "source": [
    "## Time to execution in average"
   ]
  },
  {
   "cell_type": "code",
   "execution_count": 37,
   "id": "8a6bf886",
   "metadata": {},
   "outputs": [
    {
     "name": "stdout",
     "output_type": "stream",
     "text": [
      "263.96±1.63 s\n"
     ]
    }
   ],
   "source": [
    "print(\"{:.02f}{}{:.02f} s\".format(df_westpa['elapsed'].mean(),u\"\\u00B1\", df_westpa['elapsed'].std()))"
   ]
  },
  {
   "cell_type": "markdown",
   "id": "96aff58c",
   "metadata": {},
   "source": [
    "## Total time to execution"
   ]
  },
  {
   "cell_type": "code",
   "execution_count": 38,
   "id": "1f19dc33",
   "metadata": {},
   "outputs": [
    {
     "name": "stdout",
     "output_type": "stream",
     "text": [
      "589.0s\n"
     ]
    }
   ],
   "source": [
    "last_tx = df_westpa[df_westpa['stime']==max(df_westpa['stime'])]['elapsed']\n",
    "dif = (max(df_westpa['stime'])-min(df_westpa['stime'])).total_seconds()\n",
    "print(\"{}s\".format(dif + float(last_tx)))"
   ]
  },
  {
   "cell_type": "code",
   "execution_count": 39,
   "id": "cb391efa",
   "metadata": {},
   "outputs": [
    {
     "data": {
      "text/plain": [
       "<AxesSubplot:>"
      ]
     },
     "execution_count": 39,
     "metadata": {},
     "output_type": "execute_result"
    },
    {
     "data": {
      "image/png": "[encoded data removed]",
      "text/plain": [
       "<Figure size 432x288 with 1 Axes>"
      ]
     },
     "metadata": {},
     "output_type": "display_data"
    }
   ],
   "source": [
    "df_westpa['ns/day'].plot.box()"
   ]
  },
  {
   "cell_type": "code",
   "execution_count": 49,
   "id": "a7dadcf7",
   "metadata": {},
   "outputs": [
    {
     "data": {
      "text/plain": [
       "Text(0, 0.5, 'Time (s)')"
      ]
     },
     "execution_count": 49,
     "metadata": {},
     "output_type": "execute_result"
    },
    {
     "data": {
      "image/png": "[encoded data removed]",
      "text/plain": [
       "<Figure size 432x288 with 1 Axes>"
      ]
     },
     "metadata": {},
     "output_type": "display_data"
    }
   ],
   "source": [
    "ax=df_westpa['elapsed'].plot.box()\n",
    "ax.set_ylabel('Time (s)')"
   ]
  }
 ],
 "metadata": {
  "kernelspec": {
   "display_name": "Python 3",
   "language": "python",
   "name": "python3"
  },
  "language_info": {
   "codemirror_mode": {
    "name": "ipython",
    "version": 3
   },
   "file_extension": ".py",
   "mimetype": "text/x-python",
   "name": "python",
   "nbconvert_exporter": "python",
   "pygments_lexer": "ipython3",
   "version": "3.6.13"
  }
 },
 "nbformat": 4,
 "nbformat_minor": 5
}
